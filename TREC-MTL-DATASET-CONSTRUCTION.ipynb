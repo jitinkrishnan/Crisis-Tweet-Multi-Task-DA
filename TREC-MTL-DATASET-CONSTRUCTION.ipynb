{
 "cells": [
  {
   "cell_type": "markdown",
   "metadata": {},
   "source": [
    "From http://dcs.gla.ac.uk/~richardm/TREC_IS/ download the following:\n",
    "1. All **[crisis].csv** files to a new folder 'TREC/crisis_data'\n",
    "2. Labeled file **trec_final_training.csv** to the 'TREC' folder"
   ]
  },
  {
   "cell_type": "code",
   "execution_count": 48,
   "metadata": {},
   "outputs": [],
   "source": [
    "import os\n",
    "import pandas as pd\n",
    "from preprocess import *\n",
    "from os.path import isfile, join\n",
    "from IPython.display import Image"
   ]
  },
  {
   "cell_type": "code",
   "execution_count": 34,
   "metadata": {},
   "outputs": [
    {
     "name": "stdout",
     "output_type": "stream",
     "text": [
      "['albertaFloods2013.csv', 'australiaBushfire2013.csv', 'bostonBombings2013.csv', 'chileEarthquake2014.csv', 'flSchoolShooting2018.csv', 'guatemalaEarthquake2012.csv', 'italyEarthquakes2012.csv', 'joplinTornado2011.csv', 'manilaFloods2013.csv', 'nepalEarthquake2015.csv', 'parisAttacks2015.csv', 'philipinnesFloods2012.csv', 'queenslandFloods2013.csv', 'typhoonHagupit2014.csv', 'typhoonYolanda2013.csv']\n"
     ]
    }
   ],
   "source": [
    "crisis_folder = 'crisis_data'\n",
    "files = [f for f in os.listdir(crisis_folder) if os.path.isfile(join(crisis_folder,f))]\n",
    "files = [file for file in files if '.csv' in file and file[0].isalpha()]\n",
    "print(files)"
   ]
  },
  {
   "cell_type": "markdown",
   "metadata": {},
   "source": [
    "**Result**: ['albertaFloods2013.csv',\n",
    " 'australiaBushfire2013.csv',\n",
    " 'bostonBombings2013.csv',\n",
    " 'chileEarthquake2014.csv',\n",
    " 'flSchoolShooting2018.csv',\n",
    " 'guatemalaEarthquake2012.csv',\n",
    " 'italyEarthquakes2012.csv',\n",
    " 'joplinTornado2011.csv',\n",
    " 'manilaFloods2013.csv',\n",
    " 'nepalEarthquake2015.csv',\n",
    " 'parisAttacks2015.csv',\n",
    " 'philipinnesFloods2012.csv',\n",
    " 'queenslandFloods2013.csv',\n",
    " 'typhoonHagupit2014.csv',\n",
    " 'typhoonYolanda2013.csv']"
   ]
  },
  {
   "cell_type": "markdown",
   "metadata": {},
   "source": [
    "## Create Unlabeled Domain Data"
   ]
  },
  {
   "cell_type": "code",
   "execution_count": 15,
   "metadata": {},
   "outputs": [],
   "source": [
    "domains_folder = \"domains_unlabeled\" # create new folder\n",
    "if not os.path.exists(domains_folder):\n",
    "    os.makedirs(domains_folder)\n",
    "for file in files:\n",
    "    df = pd.DataFrame(pd.read_csv(join(crisis_folder,file), sep=',', encoding = \"ISO-8859-1\", index_col=0))\n",
    "    tweets = list(df['text'])\n",
    "    fname = \"\"\n",
    "    for c in file:\n",
    "        if c.isalpha():\n",
    "            fname += c\n",
    "        else:\n",
    "            break\n",
    "    f = open(join(domains_folder,fname), 'w+')\n",
    "    for tweet in tweets:\n",
    "        f.write(full_preprocess(tweet).strip()+'\\n')  # preprocess the sentence; see preprocess.py\n",
    "    f.close()    "
   ]
  },
  {
   "cell_type": "markdown",
   "metadata": {},
   "source": [
    "**Result**: The folder named '*domains_unlabeled*' will be generated. This consists of unlabeled data for each domain with one processed tweet per line."
   ]
  },
  {
   "cell_type": "markdown",
   "metadata": {},
   "source": [
    "## Create Labeled Data"
   ]
  },
  {
   "cell_type": "code",
   "execution_count": 35,
   "metadata": {},
   "outputs": [],
   "source": [
    "df = pd.DataFrame(pd.read_csv('trec_final_training.csv', sep=',', encoding = \"ISO-8859-1\", index_col=0))"
   ]
  },
  {
   "cell_type": "code",
   "execution_count": 36,
   "metadata": {},
   "outputs": [
    {
     "data": {
      "text/plain": [
       "Index(['time', 'id', 'categories', 'indicators', 'priority', 'crisis',\n",
       "       'created_at', 'text'],\n",
       "      dtype='object')"
      ]
     },
     "execution_count": 36,
     "metadata": {},
     "output_type": "execute_result"
    }
   ],
   "source": [
    "df.columns"
   ]
  },
  {
   "cell_type": "markdown",
   "metadata": {},
   "source": [
    "**Result**: ['time', 'id', 'categories', 'indicators', 'priority', 'crisis','created_at', 'text']"
   ]
  },
  {
   "cell_type": "code",
   "execution_count": 37,
   "metadata": {},
   "outputs": [],
   "source": [
    "files = [file[:-4] for file in files] #remove csv extension"
   ]
  },
  {
   "cell_type": "code",
   "execution_count": 38,
   "metadata": {},
   "outputs": [
    {
     "data": {
      "text/plain": [
       "['albertaFloods2013',\n",
       " 'australiaBushfire2013',\n",
       " 'bostonBombings2013',\n",
       " 'chileEarthquake2014',\n",
       " 'flSchoolShooting2018',\n",
       " 'guatemalaEarthquake2012',\n",
       " 'italyEarthquakes2012',\n",
       " 'joplinTornado2011',\n",
       " 'manilaFloods2013',\n",
       " 'nepalEarthquake2015',\n",
       " 'parisAttacks2015',\n",
       " 'philipinnesFloods2012',\n",
       " 'queenslandFloods2013',\n",
       " 'typhoonHagupit2014',\n",
       " 'typhoonYolanda2013']"
      ]
     },
     "execution_count": 38,
     "metadata": {},
     "output_type": "execute_result"
    }
   ],
   "source": [
    "files"
   ]
  },
  {
   "cell_type": "markdown",
   "metadata": {},
   "source": [
    "**Result**: ['albertaFloods',\n",
    " 'australiaBushfire',\n",
    " 'bostonBombings',\n",
    " 'chileEarthquake',\n",
    " 'flSchoolShooting',\n",
    " 'guatemalaEarthquake',\n",
    " 'italyEarthquakes',\n",
    " 'joplinTornado',\n",
    " 'manilaFloods',\n",
    " 'nepalEarthquake',\n",
    " 'parisAttacks',\n",
    " 'philipinnesFloods',\n",
    " 'queenslandFloods',\n",
    " 'typhoonHagupit',\n",
    " 'typhoonYolanda']"
   ]
  },
  {
   "cell_type": "markdown",
   "metadata": {},
   "source": [
    "### Priority Folder"
   ]
  },
  {
   "cell_type": "code",
   "execution_count": 39,
   "metadata": {},
   "outputs": [],
   "source": [
    "folder = 'TASKS/priority/'\n",
    "if not os.path.exists(folder):\n",
    "    os.makedirs(folder)\n",
    "for f in files:\n",
    "    # negative\n",
    "    dfx = df.loc[(df['priority'] == \"Low\") & (df['crisis'] == str(f).strip())]\n",
    "    tweets = list(dfx['text'])\n",
    "    tweets = [full_preprocess(tweet) for tweet in tweets]\n",
    "    dirc = folder + str(f)[:-4]\n",
    "    if not os.path.exists(dirc):\n",
    "        os.makedirs(dirc)\n",
    "    fnew = open(dirc+'/neg','w+')\n",
    "    for tweet in tweets:\n",
    "        if tweet.strip() != \"\":\n",
    "            fnew.write(tweet.strip()+'\\n')\n",
    "    fnew.close()\n",
    "    # positive\n",
    "    dfx = df.loc[(df['priority'] != \"Low\") & (df['crisis'] == str(f).strip())]\n",
    "    tweets = list(dfx['text'])\n",
    "    tweets = [full_preprocess(tweet) for tweet in tweets]\n",
    "    dirc = folder + str(f)[:-4]\n",
    "    if not os.path.exists(dirc):\n",
    "        os.makedirs(dirc)\n",
    "    fnew = open(dirc+'/pos','w+')\n",
    "    for tweet in tweets:\n",
    "        if tweet.strip() != \"\":\n",
    "            fnew.write(tweet.strip()+'\\n')\n",
    "    fnew.close()"
   ]
  },
  {
   "cell_type": "markdown",
   "metadata": {},
   "source": [
    "**Result**: Creates 'pos' and 'neg' files in each crisis folder in 'TASKS/priority'"
   ]
  },
  {
   "cell_type": "markdown",
   "metadata": {},
   "source": [
    "### Rest of the Tasks"
   ]
  },
  {
   "cell_type": "code",
   "execution_count": 41,
   "metadata": {},
   "outputs": [],
   "source": [
    "tasks = ['Factoid', 'Sentiment', 'Irrelevant']"
   ]
  },
  {
   "cell_type": "markdown",
   "metadata": {},
   "source": [
    "Rest of the tasks do not have a dedicated column like '*priority*'. We have to identify their labels from the '*categories*' column."
   ]
  },
  {
   "cell_type": "markdown",
   "metadata": {},
   "source": [
    "**Construct new dataframe with independent columns for the tasks needed**"
   ]
  },
  {
   "cell_type": "code",
   "execution_count": 43,
   "metadata": {},
   "outputs": [
    {
     "name": "stdout",
     "output_type": "stream",
     "text": [
      "['Volunteer', 'Discussion', 'GoodsServices', 'Advice', 'CleanUp', 'MultimediaShare', 'Sentiment', 'ContinuingNews', 'ServiceAvailable', 'Unknown', 'InformationWanted', 'Irrelevant', 'KnownAlready', 'FirstPartyObservation', 'EmergingThreats', 'SearchAndRescue', 'ThirdPartyObservation', 'PastNews', 'Weather', 'SignificantEventChange', 'MovePeople', 'Donations', 'Factoid', 'Official', 'Hashtags']\n"
     ]
    }
   ],
   "source": [
    "cats = set() # Set of all labels\n",
    "for index, row in df.iterrows():\n",
    "    cat_values = row['categories'][1:-1].split('\", \"')\n",
    "    for cv in cat_values:\n",
    "        cats.add(cv)\n",
    "cats = list(cats)\n",
    "print(cats)"
   ]
  },
  {
   "cell_type": "markdown",
   "metadata": {},
   "source": [
    "**Result**: ['Volunteer', 'Discussion', 'GoodsServices', 'Advice', 'CleanUp', 'MultimediaShare', 'Sentiment', 'ContinuingNews', 'ServiceAvailable', 'Unknown', 'InformationWanted', 'Irrelevant', 'KnownAlready', 'FirstPartyObservation', 'EmergingThreats', 'SearchAndRescue', 'ThirdPartyObservation', 'PastNews', 'Weather', 'SignificantEventChange', 'MovePeople', 'Donations', 'Factoid', 'Official', 'Hashtags']"
   ]
  },
  {
   "cell_type": "code",
   "execution_count": 45,
   "metadata": {},
   "outputs": [
    {
     "name": "stdout",
     "output_type": "stream",
     "text": [
      "Index(['time', 'id', 'categories', 'indicators', 'priority', 'crisis',\n",
      "       'created_at', 'text', 'Volunteer', 'Discussion', 'GoodsServices',\n",
      "       'Advice', 'CleanUp', 'MultimediaShare', 'Sentiment', 'ContinuingNews',\n",
      "       'ServiceAvailable', 'Unknown', 'InformationWanted', 'Irrelevant',\n",
      "       'KnownAlready', 'FirstPartyObservation', 'EmergingThreats',\n",
      "       'SearchAndRescue', 'ThirdPartyObservation', 'PastNews', 'Weather',\n",
      "       'SignificantEventChange', 'MovePeople', 'Donations', 'Factoid',\n",
      "       'Official', 'Hashtags'],\n",
      "      dtype='object')\n"
     ]
    }
   ],
   "source": [
    "# Construct columns for each task and label them 0 or 1\n",
    "df_trec = df\n",
    "for cat in cats:\n",
    "    df_trec[cat] = 0\n",
    "for index, row in df_trec.iterrows():\n",
    "    cat_values = row['categories'][1:-1].split('\", \"')\n",
    "    for cv in cat_values:\n",
    "        df_trec.at[index, cv] = 1\n",
    "print(df_trec.columns)"
   ]
  },
  {
   "cell_type": "markdown",
   "metadata": {},
   "source": [
    "**Result**: ['time', 'id', 'categories', 'indicators', 'priority', 'crisis',\n",
    "       'created_at', 'text', 'Volunteer', 'Discussion', 'GoodsServices',\n",
    "       'Advice', 'CleanUp', 'MultimediaShare', 'Sentiment', 'ContinuingNews',\n",
    "       'ServiceAvailable', 'Unknown', 'InformationWanted', 'Irrelevant',\n",
    "       'KnownAlready', 'FirstPartyObservation', 'EmergingThreats',\n",
    "       'SearchAndRescue', 'ThirdPartyObservation', 'PastNews', 'Weather',\n",
    "       'SignificantEventChange', 'MovePeople', 'Donations', 'Factoid',\n",
    "       'Official', 'Hashtags']"
   ]
  },
  {
   "cell_type": "markdown",
   "metadata": {},
   "source": [
    "**Create Task Folders**"
   ]
  },
  {
   "cell_type": "code",
   "execution_count": 47,
   "metadata": {},
   "outputs": [],
   "source": [
    "for task in tasks:\n",
    "    main_dirc = \"TASKS/\"+task\n",
    "    if not os.path.exists(main_dirc):\n",
    "        os.makedirs(main_dirc)\n",
    "    for f in files:\n",
    "        # negative\n",
    "        dfx = df.loc[(df[task] == 0) & (df['crisis'] == str(f).strip())]\n",
    "        tweets = list(dfx['text'])\n",
    "        tweets = [full_preprocess(tweet) for tweet in tweets]\n",
    "        dirc = main_dirc +\"/\" + str(f)[:-4]\n",
    "        if not os.path.exists(dirc):\n",
    "            os.makedirs(dirc)\n",
    "        fnew = open(dirc+'/neg','w+')\n",
    "        for tweet in tweets:\n",
    "            if tweet.strip() != \"\":\n",
    "                fnew.write(tweet.strip()+'\\n')\n",
    "        fnew.close()\n",
    "        # positive\n",
    "        dfx = df.loc[(df[task] == 1) & (df['crisis'] == str(f).strip())]\n",
    "        tweets = list(dfx['text'])\n",
    "        tweets = [full_preprocess(tweet) for tweet in tweets]\n",
    "        dirc = main_dirc +\"/\" + str(f)[:-4]\n",
    "        if not os.path.exists(dirc):\n",
    "            os.makedirs(dirc)\n",
    "        fnew = open(dirc+'/pos','w+')\n",
    "        for tweet in tweets:\n",
    "            if tweet.strip() != \"\":\n",
    "                fnew.write(tweet.strip()+'\\n')\n",
    "        fnew.close()"
   ]
  },
  {
   "cell_type": "markdown",
   "metadata": {},
   "source": [
    "### Final Result"
   ]
  },
  {
   "cell_type": "code",
   "execution_count": 52,
   "metadata": {},
   "outputs": [
    {
     "data": {
      "image/png": "[encoded data removed]",
      "text/plain": [
       "<IPython.core.display.Image object>"
      ]
     },
     "execution_count": 52,
     "metadata": {},
     "output_type": "execute_result"
    }
   ],
   "source": [
    "# An example of how the folders should look like\n",
    "# All files are simply processed tweets per line\n",
    "Image(filename='folders.png')"
   ]
  },
  {
   "cell_type": "code",
   "execution_count": null,
   "metadata": {},
   "outputs": [],
   "source": []
  }
 ],
 "metadata": {
  "kernelspec": {
   "display_name": "Python 3",
   "language": "python",
   "name": "python3"
  },
  "language_info": {
   "codemirror_mode": {
    "name": "ipython",
    "version": 3
   },
   "file_extension": ".py",
   "mimetype": "text/x-python",
   "name": "python",
   "nbconvert_exporter": "python",
   "pygments_lexer": "ipython3",
   "version": "3.7.5"
  }
 },
 "nbformat": 4,
 "nbformat_minor": 2
}
